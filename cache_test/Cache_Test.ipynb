{
 "cells": [
  {
   "cell_type": "code",
   "execution_count": 2,
   "metadata": {},
   "outputs": [
    {
     "name": "stdout",
     "output_type": "stream",
     "text": [
      "('Wed May 29 11:52:25 2019', 1.5)\n",
      "('Wed May 29 11:52:30 2019', 1)\n",
      "('Wed May 29 11:52:25 2019', 1.5)\n",
      "('Wed May 29 11:52:30 2019', 1)\n",
      "('Wed May 29 11:52:25 2019', 1.5)\n",
      "('Wed May 29 11:52:30 2019', 1)\n",
      "('Wed May 29 11:52:25 2019', 1.5)\n",
      "('Wed May 29 11:52:30 2019', 1)\n",
      "('Wed May 29 11:52:25 2019', 1.5)\n",
      "('Wed May 29 11:52:30 2019', 1)\n",
      "('Wed May 29 11:52:25 2019', 1.5)\n",
      "('Wed May 29 11:52:30 2019', 1)\n",
      "('Wed May 29 11:52:25 2019', 1.5)\n",
      "('Wed May 29 11:52:30 2019', 1)\n",
      "('Wed May 29 11:52:25 2019', 1.5)\n",
      "('Wed May 29 11:52:30 2019', 1)\n",
      "('Wed May 29 11:52:25 2019', 1.5)\n",
      "('Wed May 29 11:52:30 2019', 1)\n",
      "('Wed May 29 11:52:25 2019', 1.5)\n",
      "('Wed May 29 11:52:30 2019', 1)\n",
      "('Wed May 29 11:52:25 2019', 1.5)\n",
      "('Wed May 29 11:52:30 2019', 1)\n",
      "('Wed May 29 11:52:25 2019', 1.5)\n",
      "('Wed May 29 11:52:30 2019', 1)\n",
      "('Wed May 29 11:52:25 2019', 1.5)\n",
      "('Wed May 29 11:52:30 2019', 1)\n",
      "('Wed May 29 11:52:25 2019', 1.5)\n",
      "('Wed May 29 11:52:30 2019', 1)\n",
      "('Wed May 29 11:52:25 2019', 1.5)\n",
      "('Wed May 29 11:52:30 2019', 1)\n",
      "('Wed May 29 11:52:25 2019', 1.5)\n",
      "('Wed May 29 11:52:30 2019', 1)\n",
      "('Wed May 29 11:52:25 2019', 1.5)\n",
      "('Wed May 29 11:52:30 2019', 1)\n",
      "('Wed May 29 11:52:25 2019', 1.5)\n",
      "('Wed May 29 11:52:30 2019', 1)\n",
      "('Wed May 29 11:52:25 2019', 1.5)\n",
      "('Wed May 29 11:52:30 2019', 1)\n",
      "('Wed May 29 11:52:25 2019', 1.5)\n",
      "('Wed May 29 11:52:30 2019', 1)\n"
     ]
    }
   ],
   "source": [
    "import time\n",
    "import datetime\n",
    "#import cache here\n",
    "from cachetools import cached, TTLCache\n",
    "#create cache object\n",
    "cache = TTLCache(maxsize=100, ttl=300)\n",
    "\n",
    "@cached(cache)\n",
    "def get_candy_price(candy_id):\n",
    "    time.sleep(5)\n",
    "    price = 1.5 if candy_id % 2 ==0 else 1\n",
    "    return (datetime.datetime.now().strftime(\"%c\"),price)\n",
    "\n",
    "for i in range(0,20):\n",
    "    print(get_candy_price(2))\n",
    "    print(get_candy_price(3))"
   ]
  },
  {
   "cell_type": "code",
   "execution_count": null,
   "metadata": {},
   "outputs": [],
   "source": []
  },
  {
   "cell_type": "code",
   "execution_count": null,
   "metadata": {},
   "outputs": [],
   "source": []
  }
 ],
 "metadata": {
  "kernelspec": {
   "display_name": "Python 3",
   "language": "python",
   "name": "python3"
  },
  "language_info": {
   "codemirror_mode": {
    "name": "ipython",
    "version": 3
   },
   "file_extension": ".py",
   "mimetype": "text/x-python",
   "name": "python",
   "nbconvert_exporter": "python",
   "pygments_lexer": "ipython3",
   "version": "3.7.3"
  }
 },
 "nbformat": 4,
 "nbformat_minor": 2
}
